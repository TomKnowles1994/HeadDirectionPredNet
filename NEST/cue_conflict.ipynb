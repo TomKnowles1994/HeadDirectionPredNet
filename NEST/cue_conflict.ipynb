{
 "cells": [
  {
   "cell_type": "code",
   "execution_count": 1,
   "id": "b37cef2a-c48d-405f-8b37-250918d64e2d",
   "metadata": {},
   "outputs": [
    {
     "name": "stdout",
     "output_type": "stream",
     "text": [
      "simulation length: 3.0 mins = 180000 ms\n"
     ]
    }
   ],
   "source": [
    "import matplotlib.pyplot as plt\n",
    "import nest as sim\n",
    "import numpy as np\n",
    "import pandas\n",
    "from collections import Counter\n",
    "import time as tm\n",
    "import scipy.stats\n",
    "\n",
    "sim.ResetKernel()\n",
    "\n",
    "mins = 3.\n",
    "sim_len = int(mins * 60000)\n",
    "print(f'simulation length: {mins} mins = {sim_len} ms')\n",
    "\n",
    "clockwise = True\n",
    "folder = 'whiskeye_head_direction_rotating_distal_convnet_refined'\n",
    "\n",
    "if clockwise:\n",
    "    cw_label = '_cw'\n",
    "else:\n",
    "    cw_label = '_cc'    "
   ]
  },
  {
   "cell_type": "markdown",
   "id": "bf84c2a5-3f20-4efb-bc8d-def0f682fba3",
   "metadata": {},
   "source": [
    "## Params"
   ]
  },
  {
   "cell_type": "code",
   "execution_count": 2,
   "id": "6635ea1e-fc7c-4aab-bb52-b8637196a0de",
   "metadata": {},
   "outputs": [],
   "source": [
    "N_ex = 180\n",
    "N_in = N_ex\n",
    "N_cj = N_ex\n",
    "\n",
    "sigma = 0.12\n",
    "mu = 0.5\n",
    "delay = 0.1\n",
    "base_ex = 4000 #*N_ex\n",
    "base_in = 450 #*N_in\n",
    "base_cj = 169\n",
    "w_ex_cj = 660\n",
    "\n",
    "I_init = 300.0 #pA\n",
    "I_init_dur = 100.0 #ms\n",
    "I_init_pos = N_ex//2"
   ]
  },
  {
   "cell_type": "markdown",
   "id": "7fac8b89-c711-4252-b3ac-a257ed759912",
   "metadata": {},
   "source": [
    "## Create populations"
   ]
  },
  {
   "cell_type": "code",
   "execution_count": 3,
   "id": "1426bf19-b1ba-468a-9759-c49b6bf7c30d",
   "metadata": {},
   "outputs": [],
   "source": [
    "exc = sim.Create(\"iaf_psc_alpha\",N_ex, params={\"I_e\": 450.})\n",
    "inh = sim.Create(\"iaf_psc_alpha\",N_in)\n",
    "\n",
    "l = sim.Create(\"iaf_psc_alpha\",N_cj)\n",
    "r = sim.Create(\"iaf_psc_alpha\",N_cj)"
   ]
  },
  {
   "cell_type": "markdown",
   "id": "c86839b3-8bce-45a0-aac8-e9884b712323",
   "metadata": {},
   "source": [
    "## Define connections"
   ]
  },
  {
   "cell_type": "code",
   "execution_count": 4,
   "id": "7d523b75-6212-496d-9e80-0b0c160e7cda",
   "metadata": {},
   "outputs": [],
   "source": [
    "w_ex = np.empty((N_in,N_ex))\n",
    "w_in = np.empty((N_ex,N_in))\n",
    "for e in range(N_ex):\n",
    "    for i in range(N_in):\n",
    "        d1 = abs(e/N_ex - i/N_in)\n",
    "        d2 = abs(e/N_ex - i/N_in -1)\n",
    "        d3 = abs(e/N_ex - i/N_in +1)\n",
    "        d = min(abs(d1),abs(d2),abs(d3))\n",
    "        w_gauss = np.exp(-(d)**2/2/sigma**2)\n",
    "        w_ring = np.exp(-(d - mu)**2/2/sigma**2)\n",
    "        w_ex[i,e] = base_ex * w_gauss\n",
    "        w_in[e,i] = base_in * w_ring \n",
    "            \n",
    "w_ex[w_ex<10]=0\n",
    "w_in[w_in<10]=0"
   ]
  },
  {
   "cell_type": "code",
   "execution_count": 5,
   "id": "55171217-3336-4200-b8ee-d411149c5036",
   "metadata": {},
   "outputs": [],
   "source": [
    "w_l = np.empty((N_ex,N_cj))\n",
    "w_r = np.empty((N_ex,N_cj))\n",
    "for c in range(N_cj):  \n",
    "    for e in range(N_ex):\n",
    "        d1 = abs((e-1)/N_cj - c/N_ex)\n",
    "        d2 = abs((e-1)/N_cj - c/N_ex -1)\n",
    "        d3 = abs((e-1)/N_cj - c/N_ex +1)\n",
    "        d = min(abs(d1),abs(d2),abs(d3))\n",
    "        w_l[e,c] = base_cj * (np.exp(-(d)**2/2/sigma**2))\n",
    "        \n",
    "        d1 = abs((e+1)/N_cj - c/N_ex)\n",
    "        d2 = abs((e+1)/N_cj - c/N_ex -1)\n",
    "        d3 = abs((e+1)/N_cj - c/N_ex +1)\n",
    "        d = min(abs(d1),abs(d2),abs(d3))\n",
    "        w_r[e,c] = base_cj * (np.exp(-(d)**2/2/sigma**2))\n",
    "        \n",
    "m = np.amax(w_l)\n",
    "w_l[w_l<m] = 0\n",
    "m = np.amax(w_r)\n",
    "w_r[w_r<m] = 0"
   ]
  },
  {
   "cell_type": "code",
   "execution_count": 6,
   "id": "e981bd4b-0d28-45bb-8567-32699c1811c8",
   "metadata": {},
   "outputs": [],
   "source": [
    "exc_2_inh = sim.Connect(exc,inh,'all_to_all',syn_spec={'weight': w_ex, 'delay': delay})\n",
    "inh_2_exc = sim.Connect(inh,exc,'all_to_all',syn_spec={'weight': -w_in, 'delay': delay})\n",
    "\n",
    "exc_2_l = sim.Connect(exc,l,'one_to_one',syn_spec={'weight': w_ex_cj, 'delay': delay})\n",
    "exc_2_r = sim.Connect(exc,r,'one_to_one',syn_spec={'weight': w_ex_cj, 'delay': delay})\n",
    "\n",
    "l_2_exc = sim.Connect(l,exc,'all_to_all',syn_spec={'weight': w_l, 'delay': delay})\n",
    "r_2_exc = sim.Connect(r,exc,'all_to_all',syn_spec={'weight': w_r, 'delay': delay})"
   ]
  },
  {
   "cell_type": "markdown",
   "id": "623f883f-68de-481c-8548-9923c771d5dd",
   "metadata": {},
   "source": [
    "## Record spike activity"
   ]
  },
  {
   "cell_type": "code",
   "execution_count": 7,
   "id": "1e5bd004-b7bc-41c3-ae31-c15011e5c233",
   "metadata": {},
   "outputs": [],
   "source": [
    "exc_spikes = sim.Create(\"spike_detector\", N_ex, params={\"withgid\": True,\"withtime\": True})\n",
    "sim.Connect(exc,exc_spikes)"
   ]
  },
  {
   "cell_type": "markdown",
   "id": "d6c7dc82-fb54-4507-b3a8-7a44e4dae34e",
   "metadata": {},
   "source": [
    "## Network input"
   ]
  },
  {
   "cell_type": "markdown",
   "id": "638c8e19-bfaf-46a7-add4-918d4b983f83",
   "metadata": {},
   "source": [
    "### Odometry"
   ]
  },
  {
   "cell_type": "code",
   "execution_count": 8,
   "id": "e9a69df8-9310-4b26-87e9-99d26520e456",
   "metadata": {},
   "outputs": [],
   "source": [
    "file = folder.split('_')\n",
    "if file[5].isdigit():\n",
    "    file = f'{file[3]}_{file[4]}_{file[5]}'\n",
    "else:\n",
    "    file = f'{file[3]}_{file[4]}'\n",
    "\n",
    "posedata = pandas.read_csv(f'data/{file}.csv')\n",
    "\n",
    "f = 50 #Hz\n",
    "dt = int(1000/f)\n",
    "theta = posedata['field.theta']\n",
    "theta = np.array(theta)\n",
    "\n",
    "angle_per_cell = (2*np.pi)/N_ex\n",
    "I_init_pos = np.around((theta[0]//angle_per_cell)+(N_ex//2)).astype(int)\n",
    "\n",
    "t = list(range(0,(len(theta)*dt),dt))\n",
    "time = [i*1. for i in t if i < sim_len]\n",
    "t = [i * 1. for i in t]\n",
    "\n",
    "vel = np.diff(np.unwrap(theta))"
   ]
  },
  {
   "cell_type": "code",
   "execution_count": 9,
   "id": "9562e343-3bd7-4ac5-b2b8-a867c4dfebc5",
   "metadata": {},
   "outputs": [],
   "source": [
    "Ivel = vel * 0.35 * 10000\n",
    "\n",
    "sh = 150\n",
    "go_l,go_r = Ivel,-Ivel\n",
    "go_l = go_l+sh\n",
    "go_r = go_r+sh\n",
    "go_l[go_l<=sh] = 0\n",
    "go_r[go_r<=sh] = 0\n",
    "\n",
    "# Connect AV input to conjunctive layers\n",
    "l_input = sim.Create('step_current_generator', 1)\n",
    "sim.SetStatus(l_input,{'amplitude_times': t[1:],'amplitude_values': go_l})\n",
    "r_input = sim.Create('step_current_generator', 1)\n",
    "sim.SetStatus(r_input,{'amplitude_times': t[1:],'amplitude_values': go_r})\n",
    "\n",
    "sim.Connect(r_input,r,'all_to_all')\n",
    "sim.Connect(l_input,l,'all_to_all')"
   ]
  },
  {
   "cell_type": "markdown",
   "id": "b8a31a28-3d3a-480b-8df1-90304c409868",
   "metadata": {},
   "source": [
    "## PredNet predictions"
   ]
  },
  {
   "cell_type": "code",
   "execution_count": 10,
   "id": "5cda0669-ba21-423f-9b58-402da91b601d",
   "metadata": {},
   "outputs": [
    {
     "data": {
      "image/png": "[encoded data removed]",
      "text/plain": [
       "<Figure size 432x288 with 1 Axes>"
      ]
     },
     "metadata": {
      "needs_background": "light"
     },
     "output_type": "display_data"
    },
    {
     "data": {
      "image/png": "[encoded data removed]",
      "text/plain": [
       "<Figure size 432x288 with 1 Axes>"
      ]
     },
     "metadata": {
      "needs_background": "light"
     },
     "output_type": "display_data"
    }
   ],
   "source": [
    "predtm = pandas.read_csv(f'data/{file}_frames.csv')\n",
    "predNet = np.load(f'{folder}/visual/predictions_conv.npy')\n",
    "\n",
    "predtm = np.array(predtm['%time'])\n",
    "predtm = (predtm-predtm[0])/1000000\n",
    "\n",
    "#for cue conflict take 90degrees from end of prediction and add in front\n",
    "min1 = len(predtm[predtm<(1*60000)])\n",
    "min2 = len(predtm[predtm<(1.5*60000)])\n",
    "\n",
    "if clockwise:\n",
    "    switch = 45\n",
    "else:\n",
    "    switch = 135\n",
    "rearrange = np.append(list(range(switch,180)),list(range(switch)))\n",
    "\n",
    "mn = np.min(np.min(predNet,1))\n",
    "for p in range(len(predNet)):\n",
    "    if p > min1 and p < min2:\n",
    "        before = predNet[p]\n",
    "        predNet[p] = (before[rearrange])*10.\n",
    "    else:\n",
    "        predNet[p] = (predNet[p])*10.\n",
    "predNet = np.vstack([predNet,np.zeros([1,180])])\n",
    "\n",
    "plt.plot(before)\n",
    "plt.plot(before[rearrange])\n",
    "plt.figure()\n",
    "plt.plot(predNet[0])\n",
    "plt.plot(predNet[50])\n",
    "plt.plot(predNet[100])\n",
    "\n",
    "\n",
    "predicitons = predNet[5:,:]\n",
    "prediciton_times = predtm[5:len(predicitons)+5]\n",
    "\n",
    "view_input = sim.Create('step_current_generator', N_ex)\n",
    "for n in range(N_ex):\n",
    "    sim.SetStatus([view_input[n]],{'amplitude_times': prediciton_times,'amplitude_values': predicitons[:,n]})\n",
    "    \n",
    "sim.Connect(view_input,exc,'one_to_one')\n",
    "\n",
    "sim_len = prediciton_times[-1]\n",
    "time = [i*1. for i in t if i < sim_len]"
   ]
  },
  {
   "cell_type": "markdown",
   "id": "9a41b58d-8504-41b0-b7e8-c8c77074a741",
   "metadata": {},
   "source": [
    "## Initialize bump"
   ]
  },
  {
   "cell_type": "code",
   "execution_count": 11,
   "id": "2e036c49-e797-41ce-95da-05deecf5ff04",
   "metadata": {},
   "outputs": [],
   "source": [
    "bump_init = sim.Create('step_current_generator', 1, params = {'amplitude_times':[0.1,0.1+I_init_dur],'amplitude_values':[I_init,0.0]})\n",
    "sim.Connect(bump_init,[exc[I_init_pos]])"
   ]
  },
  {
   "cell_type": "markdown",
   "id": "c41a1fc3-4054-4f1a-9db5-c169a84b80ac",
   "metadata": {},
   "source": [
    "## Run simulation"
   ]
  },
  {
   "cell_type": "code",
   "execution_count": 12,
   "id": "4bb45507-cf8d-4a23-a2b6-cd7faef055f7",
   "metadata": {},
   "outputs": [
    {
     "name": "stdout",
     "output_type": "stream",
     "text": [
      "Simulation run time: 189.55 s  Simulated time: 160.78 s\n"
     ]
    }
   ],
   "source": [
    "tic = tm.time()\n",
    "sim.Simulate(sim_len)\n",
    "print(f'Simulation run time: {np.around(tm.time()-tic,2)} s  Simulated time: {np.around(sim_len/1000,2)} s')"
   ]
  },
  {
   "cell_type": "markdown",
   "id": "a66ff5a4-d47c-4352-8fe3-bfdb32c75ba7",
   "metadata": {},
   "source": [
    "## Measure error"
   ]
  },
  {
   "cell_type": "code",
   "execution_count": 13,
   "id": "9627bd67-f0f9-4833-9432-7e95796f7f7d",
   "metadata": {},
   "outputs": [],
   "source": [
    "ev = sim.GetStatus(exc_spikes)[0]['events']\n",
    "t = ev['times']\n",
    "sp = ev['senders']\n",
    "\n",
    "dt = 20\n",
    "T = np.arange(0,(len(theta)*dt),dt*2)\n",
    "\n",
    "modes = np.zeros(len(T))\n",
    "modes[:] = np.nan\n",
    "rates = np.zeros((N_ex,len(time)))\n",
    "for i in range(len(T)-1):\n",
    "    idx = (t>T[i])*(t<T[i+1])\n",
    "    lst = sp[np.where(idx)]\n",
    "    occurence_count = Counter(lst) \n",
    "    active = occurence_count.keys()\n",
    "    for cell in active:\n",
    "        rates[cell-1,i] = occurence_count[cell]\n",
    "    mode = occurence_count.most_common(1)\n",
    "    if len(mode):\n",
    "        modes[i] = mode[0][0]\n",
    "        \n",
    "step = (2*np.pi)/N_ex\n",
    "modes = (modes*step) - np.pi"
   ]
  },
  {
   "cell_type": "code",
   "execution_count": 22,
   "id": "a6fc7968-c7e7-4631-8432-86e5905ae42a",
   "metadata": {},
   "outputs": [
    {
     "data": {
      "image/png": "[encoded data removed]",
      "text/plain": [
       "<Figure size 288x144 with 1 Axes>"
      ]
     },
     "metadata": {},
     "output_type": "display_data"
    }
   ],
   "source": [
    "fig, ax = plt.subplots(1, 1,figsize=(4, 2),facecolor='w')\n",
    "# fig, ax = plt.subplots(1, 1,figsize=(8, 2),facecolor='w')\n",
    "ax.plot(T/1000,modes*(180/np.pi),'.',label='estimate',color='hotpink')\n",
    "ax.plot(np.array(time)/1000,(theta[:len(time)])*(180/np.pi),'.',markersize=.5,label='ground truth',color='black')\n",
    "\n",
    "ax.fill_between([predtm[min1]/1000,predtm[min2]/1000], -180,180, color='C0', alpha=0.2)\n",
    "ax.set_xlabel('Time (s)')\n",
    "ax.set_ylabel('Head angle (deg)')\n",
    "ax.set_ylim([-190,190])\n",
    "ax.set_yticks([-180,0,180])\n",
    "# plt.legend(bbox_to_anchor=(1.05, 1),loc='upper left', borderaxespad=0.)\n",
    "plt.tight_layout()\n",
    "plt.savefig(f'{folder}/drift{cw_label}.png')"
   ]
  },
  {
   "cell_type": "code",
   "execution_count": 15,
   "id": "87f505a2-14dc-4d86-81fe-07792ba5be3f",
   "metadata": {},
   "outputs": [
    {
     "data": {
      "image/png": "[encoded data removed]",
      "text/plain": [
       "<Figure size 360x216 with 1 Axes>"
      ]
     },
     "metadata": {},
     "output_type": "display_data"
    }
   ],
   "source": [
    "nanidx = np.where(~np.isnan(modes[:-1]))\n",
    "modes = modes[nanidx]\n",
    "T=T[nanidx]\n",
    "\n",
    "est = np.unwrap(modes)\n",
    "groundTruth = np.unwrap(theta[:len(time)])\n",
    "\n",
    "estimate = np.interp(time, T, est)\n",
    "\n",
    "hd_estimate = np.vstack([T,modes])\n",
    "np.save(f'{folder}/estimate{cw_label}.npy',hd_estimate)"
   ]
  },
  {
   "cell_type": "code",
   "execution_count": 23,
   "id": "516c8faa-a110-45ca-a7fe-dd50a1339050",
   "metadata": {},
   "outputs": [
    {
     "name": "stdout",
     "output_type": "stream",
     "text": [
      "0.12541348546437905\n"
     ]
    },
    {
     "data": {
      "image/png": "[encoded data removed]",
      "text/plain": [
       "<Figure size 288x144 with 1 Axes>"
      ]
     },
     "metadata": {},
     "output_type": "display_data"
    }
   ],
   "source": [
    "fig, ax = plt.subplots(1, 1,figsize=(4, 2),facecolor='w')\n",
    "\n",
    "d = (groundTruth-estimate)\n",
    "plt.plot(np.array(time)/1000,abs(d)*(180/np.pi),color='hotpink')\n",
    "plt.xlabel('Time (s)')\n",
    "plt.ylabel('Error (deg)')\n",
    "\n",
    "RMSE = np.sqrt(np.sum(d**2)/len(d))\n",
    "print(RMSE)\n",
    "\n",
    "plt.hlines(90,0,sim_len/1000,color='forestgreen')\n",
    "ax.fill_between([predtm[min1]/1000,predtm[min2]/1000], 0,180, color='C0', alpha=0.2)\n",
    "\n",
    "plt.tight_layout()\n",
    "plt.savefig(f'{folder}/error{cw_label}.png')"
   ]
  },
  {
   "cell_type": "code",
   "execution_count": null,
   "id": "508234bd-b35f-4c76-883e-5fb97f262970",
   "metadata": {},
   "outputs": [],
   "source": []
  }
 ],
 "metadata": {
  "kernelspec": {
   "display_name": "env2D",
   "language": "python",
   "name": "env2d"
  },
  "language_info": {
   "codemirror_mode": {
    "name": "ipython",
    "version": 3
   },
   "file_extension": ".py",
   "mimetype": "text/x-python",
   "name": "python",
   "nbconvert_exporter": "python",
   "pygments_lexer": "ipython3",
   "version": "3.8.8"
  }
 },
 "nbformat": 4,
 "nbformat_minor": 5
}
